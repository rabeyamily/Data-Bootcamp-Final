{
  "cells": [
    {
      "cell_type": "markdown",
      "source": [
        "# Predicting Spotify Song Popularity Score Based on Their Audio Features and Metadata"
      ],
      "metadata": {
        "id": "aEvHcudUhnTU"
      }
    },
    {
      "cell_type": "markdown",
      "metadata": {
        "id": "W9ry4bevd35C"
      },
      "source": [
        "### Data Pre-Processing & Preliminary Examination:"
      ]
    },
    {
      "cell_type": "code",
      "execution_count": 2,
      "metadata": {
        "id": "obpyyBqNd11m"
      },
      "outputs": [],
      "source": [
        "import pandas as pd\n",
        "import numpy as np\n",
        "import matplotlib.pyplot as plt\n",
        "import seaborn as sns\n",
        "from sklearn.model_selection import train_test_split\n",
        "from sklearn.preprocessing import StandardScaler\n",
        "import requests"
      ]
    },
    {
      "cell_type": "code",
      "execution_count": 3,
      "metadata": {
        "id": "qffk0RPyeUeo",
        "colab": {
          "base_uri": "https://localhost:8080/",
          "height": 451
        },
        "outputId": "946d7719-974b-44fa-aad6-86665ab70f2d"
      },
      "outputs": [
        {
          "output_type": "stream",
          "name": "stdout",
          "text": [
            "Dataset Preview:\n"
          ]
        },
        {
          "output_type": "execute_result",
          "data": {
            "text/plain": [
              "                       id                                           name  \\\n",
              "0  6KbQ3uYMLKb5jDxLF7wYDD                    Singende Bataillone 1. Teil   \n",
              "1  6KuQTIu1KoTTkLXKrwlLPV       Fantasiestücke, Op. 111: Più tosto lento   \n",
              "2  6L63VW0PibdM1HDSBoqnoM                 Chapter 1.18 - Zamek kaniowski   \n",
              "3  6M94FkXd15sOAOQYRnWPN8  Bebamos Juntos - Instrumental (Remasterizado)   \n",
              "4  6N6tiFZ9vLTSOIxkj8qKrd    Polonaise-Fantaisie in A-Flat Major, Op. 61   \n",
              "\n",
              "                                    artists  duration_ms release_date  year  \\\n",
              "0                       ['Carl Woitschach']       158648         1928  1928   \n",
              "1  ['Robert Schumann', 'Vladimir Horowitz']       282133         1928  1928   \n",
              "2                   ['Seweryn Goszczyński']       104300         1928  1928   \n",
              "3                      ['Francisco Canaro']       180760      9/25/28  1928   \n",
              "4  ['Frédéric Chopin', 'Vladimir Horowitz']       687733         1928  1928   \n",
              "\n",
              "   acousticness  danceability  energy  instrumentalness  liveness  loudness  \\\n",
              "0         0.995         0.708  0.1950             0.563    0.1510   -12.428   \n",
              "1         0.994         0.379  0.0135             0.901    0.0763   -28.454   \n",
              "2         0.604         0.749  0.2200             0.000    0.1190   -19.924   \n",
              "3         0.995         0.781  0.1300             0.887    0.1110   -14.734   \n",
              "4         0.990         0.210  0.2040             0.908    0.0980   -16.829   \n",
              "\n",
              "   speechiness    tempo  valence  mode  key  popularity  explicit  \n",
              "0       0.0506  118.469   0.7790     1   10           0         0  \n",
              "1       0.0462   83.972   0.0767     1    8           0         0  \n",
              "2       0.9290  107.177   0.8800     0    5           0         0  \n",
              "3       0.0926  108.003   0.7200     0    1           0         0  \n",
              "4       0.0424   62.149   0.0693     1   11           1         0  "
            ],
            "text/html": [
              "\n",
              "  <div id=\"df-8ffab577-e440-409b-b094-8fb0a818d847\" class=\"colab-df-container\">\n",
              "    <div>\n",
              "<style scoped>\n",
              "    .dataframe tbody tr th:only-of-type {\n",
              "        vertical-align: middle;\n",
              "    }\n",
              "\n",
              "    .dataframe tbody tr th {\n",
              "        vertical-align: top;\n",
              "    }\n",
              "\n",
              "    .dataframe thead th {\n",
              "        text-align: right;\n",
              "    }\n",
              "</style>\n",
              "<table border=\"1\" class=\"dataframe\">\n",
              "  <thead>\n",
              "    <tr style=\"text-align: right;\">\n",
              "      <th></th>\n",
              "      <th>id</th>\n",
              "      <th>name</th>\n",
              "      <th>artists</th>\n",
              "      <th>duration_ms</th>\n",
              "      <th>release_date</th>\n",
              "      <th>year</th>\n",
              "      <th>acousticness</th>\n",
              "      <th>danceability</th>\n",
              "      <th>energy</th>\n",
              "      <th>instrumentalness</th>\n",
              "      <th>liveness</th>\n",
              "      <th>loudness</th>\n",
              "      <th>speechiness</th>\n",
              "      <th>tempo</th>\n",
              "      <th>valence</th>\n",
              "      <th>mode</th>\n",
              "      <th>key</th>\n",
              "      <th>popularity</th>\n",
              "      <th>explicit</th>\n",
              "    </tr>\n",
              "  </thead>\n",
              "  <tbody>\n",
              "    <tr>\n",
              "      <th>0</th>\n",
              "      <td>6KbQ3uYMLKb5jDxLF7wYDD</td>\n",
              "      <td>Singende Bataillone 1. Teil</td>\n",
              "      <td>['Carl Woitschach']</td>\n",
              "      <td>158648</td>\n",
              "      <td>1928</td>\n",
              "      <td>1928</td>\n",
              "      <td>0.995</td>\n",
              "      <td>0.708</td>\n",
              "      <td>0.1950</td>\n",
              "      <td>0.563</td>\n",
              "      <td>0.1510</td>\n",
              "      <td>-12.428</td>\n",
              "      <td>0.0506</td>\n",
              "      <td>118.469</td>\n",
              "      <td>0.7790</td>\n",
              "      <td>1</td>\n",
              "      <td>10</td>\n",
              "      <td>0</td>\n",
              "      <td>0</td>\n",
              "    </tr>\n",
              "    <tr>\n",
              "      <th>1</th>\n",
              "      <td>6KuQTIu1KoTTkLXKrwlLPV</td>\n",
              "      <td>Fantasiestücke, Op. 111: Più tosto lento</td>\n",
              "      <td>['Robert Schumann', 'Vladimir Horowitz']</td>\n",
              "      <td>282133</td>\n",
              "      <td>1928</td>\n",
              "      <td>1928</td>\n",
              "      <td>0.994</td>\n",
              "      <td>0.379</td>\n",
              "      <td>0.0135</td>\n",
              "      <td>0.901</td>\n",
              "      <td>0.0763</td>\n",
              "      <td>-28.454</td>\n",
              "      <td>0.0462</td>\n",
              "      <td>83.972</td>\n",
              "      <td>0.0767</td>\n",
              "      <td>1</td>\n",
              "      <td>8</td>\n",
              "      <td>0</td>\n",
              "      <td>0</td>\n",
              "    </tr>\n",
              "    <tr>\n",
              "      <th>2</th>\n",
              "      <td>6L63VW0PibdM1HDSBoqnoM</td>\n",
              "      <td>Chapter 1.18 - Zamek kaniowski</td>\n",
              "      <td>['Seweryn Goszczyński']</td>\n",
              "      <td>104300</td>\n",
              "      <td>1928</td>\n",
              "      <td>1928</td>\n",
              "      <td>0.604</td>\n",
              "      <td>0.749</td>\n",
              "      <td>0.2200</td>\n",
              "      <td>0.000</td>\n",
              "      <td>0.1190</td>\n",
              "      <td>-19.924</td>\n",
              "      <td>0.9290</td>\n",
              "      <td>107.177</td>\n",
              "      <td>0.8800</td>\n",
              "      <td>0</td>\n",
              "      <td>5</td>\n",
              "      <td>0</td>\n",
              "      <td>0</td>\n",
              "    </tr>\n",
              "    <tr>\n",
              "      <th>3</th>\n",
              "      <td>6M94FkXd15sOAOQYRnWPN8</td>\n",
              "      <td>Bebamos Juntos - Instrumental (Remasterizado)</td>\n",
              "      <td>['Francisco Canaro']</td>\n",
              "      <td>180760</td>\n",
              "      <td>9/25/28</td>\n",
              "      <td>1928</td>\n",
              "      <td>0.995</td>\n",
              "      <td>0.781</td>\n",
              "      <td>0.1300</td>\n",
              "      <td>0.887</td>\n",
              "      <td>0.1110</td>\n",
              "      <td>-14.734</td>\n",
              "      <td>0.0926</td>\n",
              "      <td>108.003</td>\n",
              "      <td>0.7200</td>\n",
              "      <td>0</td>\n",
              "      <td>1</td>\n",
              "      <td>0</td>\n",
              "      <td>0</td>\n",
              "    </tr>\n",
              "    <tr>\n",
              "      <th>4</th>\n",
              "      <td>6N6tiFZ9vLTSOIxkj8qKrd</td>\n",
              "      <td>Polonaise-Fantaisie in A-Flat Major, Op. 61</td>\n",
              "      <td>['Frédéric Chopin', 'Vladimir Horowitz']</td>\n",
              "      <td>687733</td>\n",
              "      <td>1928</td>\n",
              "      <td>1928</td>\n",
              "      <td>0.990</td>\n",
              "      <td>0.210</td>\n",
              "      <td>0.2040</td>\n",
              "      <td>0.908</td>\n",
              "      <td>0.0980</td>\n",
              "      <td>-16.829</td>\n",
              "      <td>0.0424</td>\n",
              "      <td>62.149</td>\n",
              "      <td>0.0693</td>\n",
              "      <td>1</td>\n",
              "      <td>11</td>\n",
              "      <td>1</td>\n",
              "      <td>0</td>\n",
              "    </tr>\n",
              "  </tbody>\n",
              "</table>\n",
              "</div>\n",
              "    <div class=\"colab-df-buttons\">\n",
              "\n",
              "  <div class=\"colab-df-container\">\n",
              "    <button class=\"colab-df-convert\" onclick=\"convertToInteractive('df-8ffab577-e440-409b-b094-8fb0a818d847')\"\n",
              "            title=\"Convert this dataframe to an interactive table.\"\n",
              "            style=\"display:none;\">\n",
              "\n",
              "  <svg xmlns=\"http://www.w3.org/2000/svg\" height=\"24px\" viewBox=\"0 -960 960 960\">\n",
              "    <path d=\"M120-120v-720h720v720H120Zm60-500h600v-160H180v160Zm220 220h160v-160H400v160Zm0 220h160v-160H400v160ZM180-400h160v-160H180v160Zm440 0h160v-160H620v160ZM180-180h160v-160H180v160Zm440 0h160v-160H620v160Z\"/>\n",
              "  </svg>\n",
              "    </button>\n",
              "\n",
              "  <style>\n",
              "    .colab-df-container {\n",
              "      display:flex;\n",
              "      gap: 12px;\n",
              "    }\n",
              "\n",
              "    .colab-df-convert {\n",
              "      background-color: #E8F0FE;\n",
              "      border: none;\n",
              "      border-radius: 50%;\n",
              "      cursor: pointer;\n",
              "      display: none;\n",
              "      fill: #1967D2;\n",
              "      height: 32px;\n",
              "      padding: 0 0 0 0;\n",
              "      width: 32px;\n",
              "    }\n",
              "\n",
              "    .colab-df-convert:hover {\n",
              "      background-color: #E2EBFA;\n",
              "      box-shadow: 0px 1px 2px rgba(60, 64, 67, 0.3), 0px 1px 3px 1px rgba(60, 64, 67, 0.15);\n",
              "      fill: #174EA6;\n",
              "    }\n",
              "\n",
              "    .colab-df-buttons div {\n",
              "      margin-bottom: 4px;\n",
              "    }\n",
              "\n",
              "    [theme=dark] .colab-df-convert {\n",
              "      background-color: #3B4455;\n",
              "      fill: #D2E3FC;\n",
              "    }\n",
              "\n",
              "    [theme=dark] .colab-df-convert:hover {\n",
              "      background-color: #434B5C;\n",
              "      box-shadow: 0px 1px 3px 1px rgba(0, 0, 0, 0.15);\n",
              "      filter: drop-shadow(0px 1px 2px rgba(0, 0, 0, 0.3));\n",
              "      fill: #FFFFFF;\n",
              "    }\n",
              "  </style>\n",
              "\n",
              "    <script>\n",
              "      const buttonEl =\n",
              "        document.querySelector('#df-8ffab577-e440-409b-b094-8fb0a818d847 button.colab-df-convert');\n",
              "      buttonEl.style.display =\n",
              "        google.colab.kernel.accessAllowed ? 'block' : 'none';\n",
              "\n",
              "      async function convertToInteractive(key) {\n",
              "        const element = document.querySelector('#df-8ffab577-e440-409b-b094-8fb0a818d847');\n",
              "        const dataTable =\n",
              "          await google.colab.kernel.invokeFunction('convertToInteractive',\n",
              "                                                    [key], {});\n",
              "        if (!dataTable) return;\n",
              "\n",
              "        const docLinkHtml = 'Like what you see? Visit the ' +\n",
              "          '<a target=\"_blank\" href=https://colab.research.google.com/notebooks/data_table.ipynb>data table notebook</a>'\n",
              "          + ' to learn more about interactive tables.';\n",
              "        element.innerHTML = '';\n",
              "        dataTable['output_type'] = 'display_data';\n",
              "        await google.colab.output.renderOutput(dataTable, element);\n",
              "        const docLink = document.createElement('div');\n",
              "        docLink.innerHTML = docLinkHtml;\n",
              "        element.appendChild(docLink);\n",
              "      }\n",
              "    </script>\n",
              "  </div>\n",
              "\n",
              "\n",
              "<div id=\"df-85b78a61-b327-437c-9998-b09420c4e19b\">\n",
              "  <button class=\"colab-df-quickchart\" onclick=\"quickchart('df-85b78a61-b327-437c-9998-b09420c4e19b')\"\n",
              "            title=\"Suggest charts\"\n",
              "            style=\"display:none;\">\n",
              "\n",
              "<svg xmlns=\"http://www.w3.org/2000/svg\" height=\"24px\"viewBox=\"0 0 24 24\"\n",
              "     width=\"24px\">\n",
              "    <g>\n",
              "        <path d=\"M19 3H5c-1.1 0-2 .9-2 2v14c0 1.1.9 2 2 2h14c1.1 0 2-.9 2-2V5c0-1.1-.9-2-2-2zM9 17H7v-7h2v7zm4 0h-2V7h2v10zm4 0h-2v-4h2v4z\"/>\n",
              "    </g>\n",
              "</svg>\n",
              "  </button>\n",
              "\n",
              "<style>\n",
              "  .colab-df-quickchart {\n",
              "      --bg-color: #E8F0FE;\n",
              "      --fill-color: #1967D2;\n",
              "      --hover-bg-color: #E2EBFA;\n",
              "      --hover-fill-color: #174EA6;\n",
              "      --disabled-fill-color: #AAA;\n",
              "      --disabled-bg-color: #DDD;\n",
              "  }\n",
              "\n",
              "  [theme=dark] .colab-df-quickchart {\n",
              "      --bg-color: #3B4455;\n",
              "      --fill-color: #D2E3FC;\n",
              "      --hover-bg-color: #434B5C;\n",
              "      --hover-fill-color: #FFFFFF;\n",
              "      --disabled-bg-color: #3B4455;\n",
              "      --disabled-fill-color: #666;\n",
              "  }\n",
              "\n",
              "  .colab-df-quickchart {\n",
              "    background-color: var(--bg-color);\n",
              "    border: none;\n",
              "    border-radius: 50%;\n",
              "    cursor: pointer;\n",
              "    display: none;\n",
              "    fill: var(--fill-color);\n",
              "    height: 32px;\n",
              "    padding: 0;\n",
              "    width: 32px;\n",
              "  }\n",
              "\n",
              "  .colab-df-quickchart:hover {\n",
              "    background-color: var(--hover-bg-color);\n",
              "    box-shadow: 0 1px 2px rgba(60, 64, 67, 0.3), 0 1px 3px 1px rgba(60, 64, 67, 0.15);\n",
              "    fill: var(--button-hover-fill-color);\n",
              "  }\n",
              "\n",
              "  .colab-df-quickchart-complete:disabled,\n",
              "  .colab-df-quickchart-complete:disabled:hover {\n",
              "    background-color: var(--disabled-bg-color);\n",
              "    fill: var(--disabled-fill-color);\n",
              "    box-shadow: none;\n",
              "  }\n",
              "\n",
              "  .colab-df-spinner {\n",
              "    border: 2px solid var(--fill-color);\n",
              "    border-color: transparent;\n",
              "    border-bottom-color: var(--fill-color);\n",
              "    animation:\n",
              "      spin 1s steps(1) infinite;\n",
              "  }\n",
              "\n",
              "  @keyframes spin {\n",
              "    0% {\n",
              "      border-color: transparent;\n",
              "      border-bottom-color: var(--fill-color);\n",
              "      border-left-color: var(--fill-color);\n",
              "    }\n",
              "    20% {\n",
              "      border-color: transparent;\n",
              "      border-left-color: var(--fill-color);\n",
              "      border-top-color: var(--fill-color);\n",
              "    }\n",
              "    30% {\n",
              "      border-color: transparent;\n",
              "      border-left-color: var(--fill-color);\n",
              "      border-top-color: var(--fill-color);\n",
              "      border-right-color: var(--fill-color);\n",
              "    }\n",
              "    40% {\n",
              "      border-color: transparent;\n",
              "      border-right-color: var(--fill-color);\n",
              "      border-top-color: var(--fill-color);\n",
              "    }\n",
              "    60% {\n",
              "      border-color: transparent;\n",
              "      border-right-color: var(--fill-color);\n",
              "    }\n",
              "    80% {\n",
              "      border-color: transparent;\n",
              "      border-right-color: var(--fill-color);\n",
              "      border-bottom-color: var(--fill-color);\n",
              "    }\n",
              "    90% {\n",
              "      border-color: transparent;\n",
              "      border-bottom-color: var(--fill-color);\n",
              "    }\n",
              "  }\n",
              "</style>\n",
              "\n",
              "  <script>\n",
              "    async function quickchart(key) {\n",
              "      const quickchartButtonEl =\n",
              "        document.querySelector('#' + key + ' button');\n",
              "      quickchartButtonEl.disabled = true;  // To prevent multiple clicks.\n",
              "      quickchartButtonEl.classList.add('colab-df-spinner');\n",
              "      try {\n",
              "        const charts = await google.colab.kernel.invokeFunction(\n",
              "            'suggestCharts', [key], {});\n",
              "      } catch (error) {\n",
              "        console.error('Error during call to suggestCharts:', error);\n",
              "      }\n",
              "      quickchartButtonEl.classList.remove('colab-df-spinner');\n",
              "      quickchartButtonEl.classList.add('colab-df-quickchart-complete');\n",
              "    }\n",
              "    (() => {\n",
              "      let quickchartButtonEl =\n",
              "        document.querySelector('#df-85b78a61-b327-437c-9998-b09420c4e19b button');\n",
              "      quickchartButtonEl.style.display =\n",
              "        google.colab.kernel.accessAllowed ? 'block' : 'none';\n",
              "    })();\n",
              "  </script>\n",
              "</div>\n",
              "\n",
              "    </div>\n",
              "  </div>\n"
            ],
            "application/vnd.google.colaboratory.intrinsic+json": {
              "type": "dataframe",
              "variable_name": "df"
            }
          },
          "metadata": {},
          "execution_count": 3
        }
      ],
      "source": [
        "# Load the dataset\n",
        "url = \"https://raw.githubusercontent.com/gabminamedez/spotify-data/master/data.csv\"\n",
        "df = pd.read_csv(url)\n",
        "\n",
        "# Display the first few rows of the dataset\n",
        "print(\"Dataset Preview:\")\n",
        "df.head()"
      ]
    },
    {
      "cell_type": "code",
      "execution_count": 4,
      "metadata": {
        "id": "agGo8-7Tfue9",
        "colab": {
          "base_uri": "https://localhost:8080/"
        },
        "outputId": "ad52a89a-6aa7-476d-e3fa-f466323afe39"
      },
      "outputs": [
        {
          "output_type": "stream",
          "name": "stdout",
          "text": [
            "\n",
            "Dataset Info:\n",
            "<class 'pandas.core.frame.DataFrame'>\n",
            "RangeIndex: 169909 entries, 0 to 169908\n",
            "Data columns (total 19 columns):\n",
            " #   Column            Non-Null Count   Dtype  \n",
            "---  ------            --------------   -----  \n",
            " 0   id                169909 non-null  object \n",
            " 1   name              169909 non-null  object \n",
            " 2   artists           169909 non-null  object \n",
            " 3   duration_ms       169909 non-null  int64  \n",
            " 4   release_date      169909 non-null  object \n",
            " 5   year              169909 non-null  int64  \n",
            " 6   acousticness      169909 non-null  float64\n",
            " 7   danceability      169909 non-null  float64\n",
            " 8   energy            169909 non-null  float64\n",
            " 9   instrumentalness  169909 non-null  float64\n",
            " 10  liveness          169909 non-null  float64\n",
            " 11  loudness          169909 non-null  float64\n",
            " 12  speechiness       169909 non-null  float64\n",
            " 13  tempo             169909 non-null  float64\n",
            " 14  valence           169909 non-null  float64\n",
            " 15  mode              169909 non-null  int64  \n",
            " 16  key               169909 non-null  int64  \n",
            " 17  popularity        169909 non-null  int64  \n",
            " 18  explicit          169909 non-null  int64  \n",
            "dtypes: float64(9), int64(6), object(4)\n",
            "memory usage: 24.6+ MB\n"
          ]
        }
      ],
      "source": [
        "# Basic Info\n",
        "print(\"\\nDataset Info:\")\n",
        "df.info()"
      ]
    },
    {
      "cell_type": "code",
      "execution_count": 5,
      "metadata": {
        "id": "R0u7ulhSgFDL"
      },
      "outputs": [],
      "source": [
        "# Drop rows with null/0 values & irrelevant columns\n",
        "df = df.dropna()\n",
        "df = df[(df != 0).all(axis=1)]\n",
        "irrelevant_cols = ['id', 'name', 'artists', 'release_date']\n",
        "df = df.drop(columns=irrelevant_cols, axis=1)"
      ]
    },
    {
      "cell_type": "code",
      "execution_count": 6,
      "metadata": {
        "id": "l0vTzBOLjqvF",
        "colab": {
          "base_uri": "https://localhost:8080/"
        },
        "outputId": "d06d64be-5220-478f-b6a3-80f7d18e1cbf"
      },
      "outputs": [
        {
          "output_type": "stream",
          "name": "stdout",
          "text": [
            "<class 'pandas.core.frame.DataFrame'>\n",
            "Index: 2788 entries, 2998 to 169904\n",
            "Data columns (total 15 columns):\n",
            " #   Column            Non-Null Count  Dtype  \n",
            "---  ------            --------------  -----  \n",
            " 0   duration_ms       2788 non-null   int64  \n",
            " 1   year              2788 non-null   int64  \n",
            " 2   acousticness      2788 non-null   float64\n",
            " 3   danceability      2788 non-null   float64\n",
            " 4   energy            2788 non-null   float64\n",
            " 5   instrumentalness  2788 non-null   float64\n",
            " 6   liveness          2788 non-null   float64\n",
            " 7   loudness          2788 non-null   float64\n",
            " 8   speechiness       2788 non-null   float64\n",
            " 9   tempo             2788 non-null   float64\n",
            " 10  valence           2788 non-null   float64\n",
            " 11  mode              2788 non-null   int64  \n",
            " 12  key               2788 non-null   int64  \n",
            " 13  popularity        2788 non-null   int64  \n",
            " 14  explicit          2788 non-null   int64  \n",
            "dtypes: float64(9), int64(6)\n",
            "memory usage: 348.5 KB\n"
          ]
        }
      ],
      "source": [
        "#final dataset:\n",
        "df.info()"
      ]
    },
    {
      "cell_type": "markdown",
      "metadata": {
        "id": "JN_ZjgP7lJVC"
      },
      "source": [
        "## Exploratory Data Analysis"
      ]
    },
    {
      "cell_type": "code",
      "execution_count": 7,
      "metadata": {
        "id": "legGlPJ8j41p",
        "colab": {
          "base_uri": "https://localhost:8080/",
          "height": 206
        },
        "outputId": "dcb5aa31-0920-4baa-d334-61e01b29fa88"
      },
      "outputs": [
        {
          "output_type": "execute_result",
          "data": {
            "text/plain": [
              "      duration_ms  year  acousticness  danceability  energy  instrumentalness  \\\n",
              "2998        90578  1969      0.043000         0.881   0.713          0.905000   \n",
              "3604       130000  1975      0.860000         0.463   0.847          0.000032   \n",
              "3799       150627  1977      0.001500         0.388   0.825          0.000004   \n",
              "3929       276933  1978      0.527000         0.474   0.938          0.520000   \n",
              "4341       185773  1982      0.000885         0.574   0.875          0.015000   \n",
              "\n",
              "      liveness  loudness  speechiness    tempo  valence  mode  key  \\\n",
              "2998     0.223    -9.665       0.0565  106.052    0.454     1    1   \n",
              "3604     0.936   -12.477       0.9360  110.840    0.268     1    2   \n",
              "3799     0.138   -10.555       0.0557  159.744    0.853     1    9   \n",
              "3929     0.299    -2.643       0.0898   71.995    0.505     1    9   \n",
              "4341     0.120    -6.046       0.0414  102.867    0.848     1   10   \n",
              "\n",
              "      popularity  explicit  \n",
              "2998          26         1  \n",
              "3604          27         1  \n",
              "3799          39         1  \n",
              "3929          26         1  \n",
              "4341          31         1  "
            ],
            "text/html": [
              "\n",
              "  <div id=\"df-a482d3a5-5eec-406e-9dd8-4f8f00a98d67\" class=\"colab-df-container\">\n",
              "    <div>\n",
              "<style scoped>\n",
              "    .dataframe tbody tr th:only-of-type {\n",
              "        vertical-align: middle;\n",
              "    }\n",
              "\n",
              "    .dataframe tbody tr th {\n",
              "        vertical-align: top;\n",
              "    }\n",
              "\n",
              "    .dataframe thead th {\n",
              "        text-align: right;\n",
              "    }\n",
              "</style>\n",
              "<table border=\"1\" class=\"dataframe\">\n",
              "  <thead>\n",
              "    <tr style=\"text-align: right;\">\n",
              "      <th></th>\n",
              "      <th>duration_ms</th>\n",
              "      <th>year</th>\n",
              "      <th>acousticness</th>\n",
              "      <th>danceability</th>\n",
              "      <th>energy</th>\n",
              "      <th>instrumentalness</th>\n",
              "      <th>liveness</th>\n",
              "      <th>loudness</th>\n",
              "      <th>speechiness</th>\n",
              "      <th>tempo</th>\n",
              "      <th>valence</th>\n",
              "      <th>mode</th>\n",
              "      <th>key</th>\n",
              "      <th>popularity</th>\n",
              "      <th>explicit</th>\n",
              "    </tr>\n",
              "  </thead>\n",
              "  <tbody>\n",
              "    <tr>\n",
              "      <th>2998</th>\n",
              "      <td>90578</td>\n",
              "      <td>1969</td>\n",
              "      <td>0.043000</td>\n",
              "      <td>0.881</td>\n",
              "      <td>0.713</td>\n",
              "      <td>0.905000</td>\n",
              "      <td>0.223</td>\n",
              "      <td>-9.665</td>\n",
              "      <td>0.0565</td>\n",
              "      <td>106.052</td>\n",
              "      <td>0.454</td>\n",
              "      <td>1</td>\n",
              "      <td>1</td>\n",
              "      <td>26</td>\n",
              "      <td>1</td>\n",
              "    </tr>\n",
              "    <tr>\n",
              "      <th>3604</th>\n",
              "      <td>130000</td>\n",
              "      <td>1975</td>\n",
              "      <td>0.860000</td>\n",
              "      <td>0.463</td>\n",
              "      <td>0.847</td>\n",
              "      <td>0.000032</td>\n",
              "      <td>0.936</td>\n",
              "      <td>-12.477</td>\n",
              "      <td>0.9360</td>\n",
              "      <td>110.840</td>\n",
              "      <td>0.268</td>\n",
              "      <td>1</td>\n",
              "      <td>2</td>\n",
              "      <td>27</td>\n",
              "      <td>1</td>\n",
              "    </tr>\n",
              "    <tr>\n",
              "      <th>3799</th>\n",
              "      <td>150627</td>\n",
              "      <td>1977</td>\n",
              "      <td>0.001500</td>\n",
              "      <td>0.388</td>\n",
              "      <td>0.825</td>\n",
              "      <td>0.000004</td>\n",
              "      <td>0.138</td>\n",
              "      <td>-10.555</td>\n",
              "      <td>0.0557</td>\n",
              "      <td>159.744</td>\n",
              "      <td>0.853</td>\n",
              "      <td>1</td>\n",
              "      <td>9</td>\n",
              "      <td>39</td>\n",
              "      <td>1</td>\n",
              "    </tr>\n",
              "    <tr>\n",
              "      <th>3929</th>\n",
              "      <td>276933</td>\n",
              "      <td>1978</td>\n",
              "      <td>0.527000</td>\n",
              "      <td>0.474</td>\n",
              "      <td>0.938</td>\n",
              "      <td>0.520000</td>\n",
              "      <td>0.299</td>\n",
              "      <td>-2.643</td>\n",
              "      <td>0.0898</td>\n",
              "      <td>71.995</td>\n",
              "      <td>0.505</td>\n",
              "      <td>1</td>\n",
              "      <td>9</td>\n",
              "      <td>26</td>\n",
              "      <td>1</td>\n",
              "    </tr>\n",
              "    <tr>\n",
              "      <th>4341</th>\n",
              "      <td>185773</td>\n",
              "      <td>1982</td>\n",
              "      <td>0.000885</td>\n",
              "      <td>0.574</td>\n",
              "      <td>0.875</td>\n",
              "      <td>0.015000</td>\n",
              "      <td>0.120</td>\n",
              "      <td>-6.046</td>\n",
              "      <td>0.0414</td>\n",
              "      <td>102.867</td>\n",
              "      <td>0.848</td>\n",
              "      <td>1</td>\n",
              "      <td>10</td>\n",
              "      <td>31</td>\n",
              "      <td>1</td>\n",
              "    </tr>\n",
              "  </tbody>\n",
              "</table>\n",
              "</div>\n",
              "    <div class=\"colab-df-buttons\">\n",
              "\n",
              "  <div class=\"colab-df-container\">\n",
              "    <button class=\"colab-df-convert\" onclick=\"convertToInteractive('df-a482d3a5-5eec-406e-9dd8-4f8f00a98d67')\"\n",
              "            title=\"Convert this dataframe to an interactive table.\"\n",
              "            style=\"display:none;\">\n",
              "\n",
              "  <svg xmlns=\"http://www.w3.org/2000/svg\" height=\"24px\" viewBox=\"0 -960 960 960\">\n",
              "    <path d=\"M120-120v-720h720v720H120Zm60-500h600v-160H180v160Zm220 220h160v-160H400v160Zm0 220h160v-160H400v160ZM180-400h160v-160H180v160Zm440 0h160v-160H620v160ZM180-180h160v-160H180v160Zm440 0h160v-160H620v160Z\"/>\n",
              "  </svg>\n",
              "    </button>\n",
              "\n",
              "  <style>\n",
              "    .colab-df-container {\n",
              "      display:flex;\n",
              "      gap: 12px;\n",
              "    }\n",
              "\n",
              "    .colab-df-convert {\n",
              "      background-color: #E8F0FE;\n",
              "      border: none;\n",
              "      border-radius: 50%;\n",
              "      cursor: pointer;\n",
              "      display: none;\n",
              "      fill: #1967D2;\n",
              "      height: 32px;\n",
              "      padding: 0 0 0 0;\n",
              "      width: 32px;\n",
              "    }\n",
              "\n",
              "    .colab-df-convert:hover {\n",
              "      background-color: #E2EBFA;\n",
              "      box-shadow: 0px 1px 2px rgba(60, 64, 67, 0.3), 0px 1px 3px 1px rgba(60, 64, 67, 0.15);\n",
              "      fill: #174EA6;\n",
              "    }\n",
              "\n",
              "    .colab-df-buttons div {\n",
              "      margin-bottom: 4px;\n",
              "    }\n",
              "\n",
              "    [theme=dark] .colab-df-convert {\n",
              "      background-color: #3B4455;\n",
              "      fill: #D2E3FC;\n",
              "    }\n",
              "\n",
              "    [theme=dark] .colab-df-convert:hover {\n",
              "      background-color: #434B5C;\n",
              "      box-shadow: 0px 1px 3px 1px rgba(0, 0, 0, 0.15);\n",
              "      filter: drop-shadow(0px 1px 2px rgba(0, 0, 0, 0.3));\n",
              "      fill: #FFFFFF;\n",
              "    }\n",
              "  </style>\n",
              "\n",
              "    <script>\n",
              "      const buttonEl =\n",
              "        document.querySelector('#df-a482d3a5-5eec-406e-9dd8-4f8f00a98d67 button.colab-df-convert');\n",
              "      buttonEl.style.display =\n",
              "        google.colab.kernel.accessAllowed ? 'block' : 'none';\n",
              "\n",
              "      async function convertToInteractive(key) {\n",
              "        const element = document.querySelector('#df-a482d3a5-5eec-406e-9dd8-4f8f00a98d67');\n",
              "        const dataTable =\n",
              "          await google.colab.kernel.invokeFunction('convertToInteractive',\n",
              "                                                    [key], {});\n",
              "        if (!dataTable) return;\n",
              "\n",
              "        const docLinkHtml = 'Like what you see? Visit the ' +\n",
              "          '<a target=\"_blank\" href=https://colab.research.google.com/notebooks/data_table.ipynb>data table notebook</a>'\n",
              "          + ' to learn more about interactive tables.';\n",
              "        element.innerHTML = '';\n",
              "        dataTable['output_type'] = 'display_data';\n",
              "        await google.colab.output.renderOutput(dataTable, element);\n",
              "        const docLink = document.createElement('div');\n",
              "        docLink.innerHTML = docLinkHtml;\n",
              "        element.appendChild(docLink);\n",
              "      }\n",
              "    </script>\n",
              "  </div>\n",
              "\n",
              "\n",
              "<div id=\"df-7c3278a0-8416-4628-abf2-22381f635d28\">\n",
              "  <button class=\"colab-df-quickchart\" onclick=\"quickchart('df-7c3278a0-8416-4628-abf2-22381f635d28')\"\n",
              "            title=\"Suggest charts\"\n",
              "            style=\"display:none;\">\n",
              "\n",
              "<svg xmlns=\"http://www.w3.org/2000/svg\" height=\"24px\"viewBox=\"0 0 24 24\"\n",
              "     width=\"24px\">\n",
              "    <g>\n",
              "        <path d=\"M19 3H5c-1.1 0-2 .9-2 2v14c0 1.1.9 2 2 2h14c1.1 0 2-.9 2-2V5c0-1.1-.9-2-2-2zM9 17H7v-7h2v7zm4 0h-2V7h2v10zm4 0h-2v-4h2v4z\"/>\n",
              "    </g>\n",
              "</svg>\n",
              "  </button>\n",
              "\n",
              "<style>\n",
              "  .colab-df-quickchart {\n",
              "      --bg-color: #E8F0FE;\n",
              "      --fill-color: #1967D2;\n",
              "      --hover-bg-color: #E2EBFA;\n",
              "      --hover-fill-color: #174EA6;\n",
              "      --disabled-fill-color: #AAA;\n",
              "      --disabled-bg-color: #DDD;\n",
              "  }\n",
              "\n",
              "  [theme=dark] .colab-df-quickchart {\n",
              "      --bg-color: #3B4455;\n",
              "      --fill-color: #D2E3FC;\n",
              "      --hover-bg-color: #434B5C;\n",
              "      --hover-fill-color: #FFFFFF;\n",
              "      --disabled-bg-color: #3B4455;\n",
              "      --disabled-fill-color: #666;\n",
              "  }\n",
              "\n",
              "  .colab-df-quickchart {\n",
              "    background-color: var(--bg-color);\n",
              "    border: none;\n",
              "    border-radius: 50%;\n",
              "    cursor: pointer;\n",
              "    display: none;\n",
              "    fill: var(--fill-color);\n",
              "    height: 32px;\n",
              "    padding: 0;\n",
              "    width: 32px;\n",
              "  }\n",
              "\n",
              "  .colab-df-quickchart:hover {\n",
              "    background-color: var(--hover-bg-color);\n",
              "    box-shadow: 0 1px 2px rgba(60, 64, 67, 0.3), 0 1px 3px 1px rgba(60, 64, 67, 0.15);\n",
              "    fill: var(--button-hover-fill-color);\n",
              "  }\n",
              "\n",
              "  .colab-df-quickchart-complete:disabled,\n",
              "  .colab-df-quickchart-complete:disabled:hover {\n",
              "    background-color: var(--disabled-bg-color);\n",
              "    fill: var(--disabled-fill-color);\n",
              "    box-shadow: none;\n",
              "  }\n",
              "\n",
              "  .colab-df-spinner {\n",
              "    border: 2px solid var(--fill-color);\n",
              "    border-color: transparent;\n",
              "    border-bottom-color: var(--fill-color);\n",
              "    animation:\n",
              "      spin 1s steps(1) infinite;\n",
              "  }\n",
              "\n",
              "  @keyframes spin {\n",
              "    0% {\n",
              "      border-color: transparent;\n",
              "      border-bottom-color: var(--fill-color);\n",
              "      border-left-color: var(--fill-color);\n",
              "    }\n",
              "    20% {\n",
              "      border-color: transparent;\n",
              "      border-left-color: var(--fill-color);\n",
              "      border-top-color: var(--fill-color);\n",
              "    }\n",
              "    30% {\n",
              "      border-color: transparent;\n",
              "      border-left-color: var(--fill-color);\n",
              "      border-top-color: var(--fill-color);\n",
              "      border-right-color: var(--fill-color);\n",
              "    }\n",
              "    40% {\n",
              "      border-color: transparent;\n",
              "      border-right-color: var(--fill-color);\n",
              "      border-top-color: var(--fill-color);\n",
              "    }\n",
              "    60% {\n",
              "      border-color: transparent;\n",
              "      border-right-color: var(--fill-color);\n",
              "    }\n",
              "    80% {\n",
              "      border-color: transparent;\n",
              "      border-right-color: var(--fill-color);\n",
              "      border-bottom-color: var(--fill-color);\n",
              "    }\n",
              "    90% {\n",
              "      border-color: transparent;\n",
              "      border-bottom-color: var(--fill-color);\n",
              "    }\n",
              "  }\n",
              "</style>\n",
              "\n",
              "  <script>\n",
              "    async function quickchart(key) {\n",
              "      const quickchartButtonEl =\n",
              "        document.querySelector('#' + key + ' button');\n",
              "      quickchartButtonEl.disabled = true;  // To prevent multiple clicks.\n",
              "      quickchartButtonEl.classList.add('colab-df-spinner');\n",
              "      try {\n",
              "        const charts = await google.colab.kernel.invokeFunction(\n",
              "            'suggestCharts', [key], {});\n",
              "      } catch (error) {\n",
              "        console.error('Error during call to suggestCharts:', error);\n",
              "      }\n",
              "      quickchartButtonEl.classList.remove('colab-df-spinner');\n",
              "      quickchartButtonEl.classList.add('colab-df-quickchart-complete');\n",
              "    }\n",
              "    (() => {\n",
              "      let quickchartButtonEl =\n",
              "        document.querySelector('#df-7c3278a0-8416-4628-abf2-22381f635d28 button');\n",
              "      quickchartButtonEl.style.display =\n",
              "        google.colab.kernel.accessAllowed ? 'block' : 'none';\n",
              "    })();\n",
              "  </script>\n",
              "</div>\n",
              "\n",
              "    </div>\n",
              "  </div>\n"
            ],
            "application/vnd.google.colaboratory.intrinsic+json": {
              "type": "dataframe",
              "variable_name": "df",
              "summary": "{\n  \"name\": \"df\",\n  \"rows\": 2788,\n  \"fields\": [\n    {\n      \"column\": \"duration_ms\",\n      \"properties\": {\n        \"dtype\": \"number\",\n        \"std\": 90970,\n        \"min\": 36160,\n        \"max\": 2703227,\n        \"num_unique_values\": 2550,\n        \"samples\": [\n          193533,\n          361533,\n          308093\n        ],\n        \"semantic_type\": \"\",\n        \"description\": \"\"\n      }\n    },\n    {\n      \"column\": \"year\",\n      \"properties\": {\n        \"dtype\": \"number\",\n        \"std\": 11,\n        \"min\": 1929,\n        \"max\": 2020,\n        \"num_unique_values\": 56,\n        \"samples\": [\n          1969,\n          1983,\n          2015\n        ],\n        \"semantic_type\": \"\",\n        \"description\": \"\"\n      }\n    },\n    {\n      \"column\": \"acousticness\",\n      \"properties\": {\n        \"dtype\": \"number\",\n        \"std\": 0.22548843241567,\n        \"min\": 1.57e-06,\n        \"max\": 0.993,\n        \"num_unique_values\": 1736,\n        \"samples\": [\n          8.54e-06,\n          0.137,\n          0.00953\n        ],\n        \"semantic_type\": \"\",\n        \"description\": \"\"\n      }\n    },\n    {\n      \"column\": \"danceability\",\n      \"properties\": {\n        \"dtype\": \"number\",\n        \"std\": 0.18856661661493118,\n        \"min\": 0.114,\n        \"max\": 0.986,\n        \"num_unique_values\": 731,\n        \"samples\": [\n          0.283,\n          0.76,\n          0.461\n        ],\n        \"semantic_type\": \"\",\n        \"description\": \"\"\n      }\n    },\n    {\n      \"column\": \"energy\",\n      \"properties\": {\n        \"dtype\": \"number\",\n        \"std\": 0.19807172371136497,\n        \"min\": 0.0196,\n        \"max\": 0.999,\n        \"num_unique_values\": 718,\n        \"samples\": [\n          0.637,\n          0.587,\n          0.531\n        ],\n        \"semantic_type\": \"\",\n        \"description\": \"\"\n      }\n    },\n    {\n      \"column\": \"instrumentalness\",\n      \"properties\": {\n        \"dtype\": \"number\",\n        \"std\": 0.17406758393513272,\n        \"min\": 1e-06,\n        \"max\": 0.992,\n        \"num_unique_values\": 1917,\n        \"samples\": [\n          0.00656,\n          0.000145,\n          2.36e-05\n        ],\n        \"semantic_type\": \"\",\n        \"description\": \"\"\n      }\n    },\n    {\n      \"column\": \"liveness\",\n      \"properties\": {\n        \"dtype\": \"number\",\n        \"std\": 0.1853366200982874,\n        \"min\": 0.0199,\n        \"max\": 0.994,\n        \"num_unique_values\": 940,\n        \"samples\": [\n          0.0622,\n          0.147,\n          0.156\n        ],\n        \"semantic_type\": \"\",\n        \"description\": \"\"\n      }\n    },\n    {\n      \"column\": \"loudness\",\n      \"properties\": {\n        \"dtype\": \"number\",\n        \"std\": 3.2499438319391887,\n        \"min\": -33.35,\n        \"max\": -0.307,\n        \"num_unique_values\": 2363,\n        \"samples\": [\n          -4.989,\n          -6.85,\n          -6.028\n        ],\n        \"semantic_type\": \"\",\n        \"description\": \"\"\n      }\n    },\n    {\n      \"column\": \"speechiness\",\n      \"properties\": {\n        \"dtype\": \"number\",\n        \"std\": 0.13802651960525086,\n        \"min\": 0.0229,\n        \"max\": 0.958,\n        \"num_unique_values\": 990,\n        \"samples\": [\n          0.168,\n          0.0453,\n          0.0589\n        ],\n        \"semantic_type\": \"\",\n        \"description\": \"\"\n      }\n    },\n    {\n      \"column\": \"tempo\",\n      \"properties\": {\n        \"dtype\": \"number\",\n        \"std\": 31.605652129203573,\n        \"min\": 45.518,\n        \"max\": 215.669,\n        \"num_unique_values\": 2642,\n        \"samples\": [\n          108.003,\n          77.62,\n          128.049\n        ],\n        \"semantic_type\": \"\",\n        \"description\": \"\"\n      }\n    },\n    {\n      \"column\": \"valence\",\n      \"properties\": {\n        \"dtype\": \"number\",\n        \"std\": 0.23565058958988527,\n        \"min\": 0.0312,\n        \"max\": 0.98,\n        \"num_unique_values\": 928,\n        \"samples\": [\n          0.292,\n          0.0949,\n          0.567\n        ],\n        \"semantic_type\": \"\",\n        \"description\": \"\"\n      }\n    },\n    {\n      \"column\": \"mode\",\n      \"properties\": {\n        \"dtype\": \"number\",\n        \"std\": 0,\n        \"min\": 1,\n        \"max\": 1,\n        \"num_unique_values\": 1,\n        \"samples\": [\n          1\n        ],\n        \"semantic_type\": \"\",\n        \"description\": \"\"\n      }\n    },\n    {\n      \"column\": \"key\",\n      \"properties\": {\n        \"dtype\": \"number\",\n        \"std\": 3,\n        \"min\": 1,\n        \"max\": 11,\n        \"num_unique_values\": 11,\n        \"samples\": [\n          8\n        ],\n        \"semantic_type\": \"\",\n        \"description\": \"\"\n      }\n    },\n    {\n      \"column\": \"popularity\",\n      \"properties\": {\n        \"dtype\": \"number\",\n        \"std\": 13,\n        \"min\": 1,\n        \"max\": 95,\n        \"num_unique_values\": 81,\n        \"samples\": [\n          58\n        ],\n        \"semantic_type\": \"\",\n        \"description\": \"\"\n      }\n    },\n    {\n      \"column\": \"explicit\",\n      \"properties\": {\n        \"dtype\": \"number\",\n        \"std\": 0,\n        \"min\": 1,\n        \"max\": 1,\n        \"num_unique_values\": 1,\n        \"samples\": [\n          1\n        ],\n        \"semantic_type\": \"\",\n        \"description\": \"\"\n      }\n    }\n  ]\n}"
            }
          },
          "metadata": {},
          "execution_count": 7
        }
      ],
      "source": [
        "df.head()"
      ]
    },
    {
      "cell_type": "markdown",
      "metadata": {
        "id": "8DNCEPyvqk65"
      },
      "source": [
        "### Basic Statistics"
      ]
    },
    {
      "cell_type": "code",
      "execution_count": 8,
      "metadata": {
        "id": "99xkMw7dqq0E",
        "colab": {
          "base_uri": "https://localhost:8080/"
        },
        "outputId": "f287cc27-cda5-4b8b-e2da-a8fa62fc07f3"
      },
      "outputs": [
        {
          "output_type": "stream",
          "name": "stdout",
          "text": [
            "\n",
            "Basic Statistics:\n",
            "        duration_ms         year  acousticness  danceability       energy  \\\n",
            "count  2.788000e+03  2788.000000   2788.000000   2788.000000  2788.000000   \n",
            "mean   2.307169e+05  2004.836801      0.148508      0.633344     0.700890   \n",
            "std    9.097025e+04    11.875849      0.225488      0.188567     0.198072   \n",
            "min    3.616000e+04  1929.000000      0.000002      0.114000     0.019600   \n",
            "25%    1.842098e+05  1996.000000      0.003870      0.494750     0.556000   \n",
            "50%    2.236800e+05  2005.000000      0.038050      0.657500     0.711500   \n",
            "75%    2.664400e+05  2016.000000      0.194000      0.787000     0.871250   \n",
            "max    2.703227e+06  2020.000000      0.993000      0.986000     0.999000   \n",
            "\n",
            "       instrumentalness     liveness     loudness  speechiness        tempo  \\\n",
            "count       2788.000000  2788.000000  2788.000000  2788.000000  2788.000000   \n",
            "mean           0.059168     0.223048    -7.231803     0.163160   121.624207   \n",
            "std            0.174068     0.185337     3.249944     0.138027    31.605652   \n",
            "min            0.000001     0.019900   -33.350000     0.022900    45.518000   \n",
            "25%            0.000010     0.102000    -8.790250     0.057475    94.978250   \n",
            "50%            0.000151     0.144000    -6.712000     0.114000   116.807000   \n",
            "75%            0.005870     0.300000    -4.986500     0.237250   145.031000   \n",
            "max            0.992000     0.994000    -0.307000     0.958000   215.669000   \n",
            "\n",
            "           valence    mode          key  popularity  explicit  \n",
            "count  2788.000000  2788.0  2788.000000  2788.00000    2788.0  \n",
            "mean      0.465179     1.0     5.272956    52.32604       1.0  \n",
            "std       0.235651     0.0     3.368275    13.28124       0.0  \n",
            "min       0.031200     1.0     1.000000     1.00000       1.0  \n",
            "25%       0.272000     1.0     2.000000    42.00000       1.0  \n",
            "50%       0.457000     1.0     6.000000    52.00000       1.0  \n",
            "75%       0.650250     1.0     8.000000    62.25000       1.0  \n",
            "max       0.980000     1.0    11.000000    95.00000       1.0  \n"
          ]
        }
      ],
      "source": [
        "# Display basic statistics\n",
        "print(\"\\nBasic Statistics:\")\n",
        "print(df.describe())"
      ]
    },
    {
      "cell_type": "code",
      "execution_count": 9,
      "metadata": {
        "id": "eZNyf_SJs8jN",
        "colab": {
          "base_uri": "https://localhost:8080/"
        },
        "outputId": "02bd5935-fa28-48d7-f28c-425f092eedd9"
      },
      "outputs": [
        {
          "output_type": "stream",
          "name": "stdout",
          "text": [
            "\n",
            "Year range: 1929 to 2020\n"
          ]
        }
      ],
      "source": [
        "# Display range of years\n",
        "print(f\"\\nYear range: {df['year'].min()} to {df['year'].max()}\")"
      ]
    },
    {
      "cell_type": "code",
      "execution_count": 10,
      "metadata": {
        "id": "7m8c4UY3s_Fa",
        "colab": {
          "base_uri": "https://localhost:8080/"
        },
        "outputId": "78aa426c-ac90-4417-90cb-e2902444f5df"
      },
      "outputs": [
        {
          "output_type": "stream",
          "name": "stdout",
          "text": [
            "\n",
            "Popularity range: 1 to 95\n"
          ]
        }
      ],
      "source": [
        "# Display range of popularity\n",
        "print(f\"\\nPopularity range: {df['popularity'].min()} to {df['popularity'].max()}\")"
      ]
    },
    {
      "cell_type": "markdown",
      "metadata": {
        "id": "uWHpVreopiiR"
      },
      "source": [
        "### Descriptive Statistics"
      ]
    },
    {
      "cell_type": "code",
      "execution_count": 11,
      "metadata": {
        "id": "X3R2-PZTpgKF",
        "colab": {
          "base_uri": "https://localhost:8080/"
        },
        "outputId": "72de6ddb-5b88-432a-ff6a-670d36942d44"
      },
      "outputs": [
        {
          "output_type": "stream",
          "name": "stdout",
          "text": [
            "\n",
            "Minimum Release Year: 1929\n",
            "Maximum Release Year: 2020\n",
            "Minimum Tempo: 45.518\n",
            "Maximum Tempo: 215.669\n",
            "\n",
            "Mean Popularity: 52.32604017216643\n",
            "Median Popularity: 52.0\n",
            "Minimum Popularity: 1\n",
            "Maximum Popularity: 95\n"
          ]
        }
      ],
      "source": [
        "# Descriptive Statistics\n",
        "print(\"\\nMinimum Release Year:\", df['year'].min())\n",
        "print(\"Maximum Release Year:\", df['year'].max())\n",
        "print(\"Minimum Tempo:\", df['tempo'].min())\n",
        "print(\"Maximum Tempo:\", df['tempo'].max())\n",
        "print(\"\\nMean Popularity:\", df['popularity'].mean())\n",
        "print(\"Median Popularity:\", df['popularity'].median())\n",
        "print(\"Minimum Popularity:\", df['popularity'].min())\n",
        "print(\"Maximum Popularity:\", df['popularity'].max())"
      ]
    },
    {
      "cell_type": "code",
      "execution_count": 12,
      "metadata": {
        "id": "iDNePlr1riyw",
        "colab": {
          "base_uri": "https://localhost:8080/",
          "height": 564
        },
        "outputId": "69363cdf-2859-4a75-9aae-757b5a0df36e"
      },
      "outputs": [
        {
          "output_type": "display_data",
          "data": {
            "text/plain": [
              "<Figure size 1000x600 with 1 Axes>"
            ],
            "image/png": "[encoded data removed]"
          },
          "metadata": {}
        }
      ],
      "source": [
        "# Box & Whisker plot of popularity scores\n",
        "plt.figure(figsize=(10, 6))\n",
        "sns.boxplot(data=df, x='popularity')\n",
        "plt.title('Boxplot of Popularity Scores')\n",
        "plt.show()"
      ]
    },
    {
      "cell_type": "code",
      "execution_count": 13,
      "metadata": {
        "id": "Qp0uMaArrixX",
        "colab": {
          "base_uri": "https://localhost:8080/",
          "height": 564
        },
        "outputId": "b45a1e26-e5aa-493e-a7d7-89f8fbc2f8b7"
      },
      "outputs": [
        {
          "output_type": "display_data",
          "data": {
            "text/plain": [
              "<Figure size 1000x600 with 1 Axes>"
            ],
            "image/png": "[encoded data removed]"
          },
          "metadata": {}
        }
      ],
      "source": [
        "# Histogram of popularity scores\n",
        "plt.figure(figsize=(10, 6))\n",
        "sns.histplot(data=df, x='popularity', kde = True)\n",
        "plt.title('Distribution of Popularity Scores on Spotify')\n",
        "plt.show()"
      ]
    },
    {
      "cell_type": "markdown",
      "metadata": {
        "id": "bU8VWL1GwQpj"
      },
      "source": [
        "### Initial Visualizations"
      ]
    },
    {
      "cell_type": "code",
      "execution_count": null,
      "metadata": {
        "id": "fyGknCLMriuF",
        "colab": {
          "base_uri": "https://localhost:8080/",
          "height": 564
        },
        "outputId": "62da6011-f34d-418c-db88-ab38199789be"
      },
      "outputs": [
        {
          "output_type": "display_data",
          "data": {
            "text/plain": [
              "<Figure size 1200x600 with 1 Axes>"
            ],
            "image/png": "[encoded data removed]"
          },
          "metadata": {}
        }
      ],
      "source": [
        "# Scatterplot of Release Year vs Popularity\n",
        "plt.figure(figsize=(12, 6))\n",
        "sns.scatterplot(data=df, x='year', y='popularity')\n",
        "plt.title('Song Release Year vs Popularity')\n",
        "plt.xlabel('Release Year')\n",
        "plt.ylabel('Popularity')\n",
        "plt.show()"
      ]
    },
    {
      "cell_type": "code",
      "execution_count": null,
      "metadata": {
        "id": "pdYvHfnyyMLK"
      },
      "outputs": [],
      "source": [
        "# Plot energy against popularity\n",
        "plt.figure(figsize=(10, 6))\n",
        "sns.scatterplot(data=df, x='energy', y='popularity')\n",
        "plt.title('Energy vs Popularity')\n",
        "plt.show()"
      ]
    },
    {
      "cell_type": "code",
      "execution_count": null,
      "metadata": {
        "id": "CjClRjULyUOj"
      },
      "outputs": [],
      "source": [
        "# Plot danceability against popularity\n",
        "plt.figure(figsize=(10, 6))\n",
        "sns.scatterplot(data=df, x='danceability', y='popularity')\n",
        "plt.title('Danceability vs Popularity')\n",
        "plt.show()"
      ]
    },
    {
      "cell_type": "code",
      "source": [
        "# Scatterplot of Loudness vs Popularity\n",
        "plt.figure(figsize=(10, 6))\n",
        "sns.scatterplot(data=df, x='loudness', y='popularity', hue='energy', palette='magma')\n",
        "plt.title('Loudness vs Popularity')\n",
        "plt.xlabel('Loudness (dB)')\n",
        "plt.ylabel('Popularity')\n",
        "plt.show()"
      ],
      "metadata": {
        "id": "1sluMAlL6RD-"
      },
      "execution_count": null,
      "outputs": []
    },
    {
      "cell_type": "code",
      "execution_count": null,
      "metadata": {
        "id": "FdAEBhcoripY"
      },
      "outputs": [],
      "source": [
        "# Barplot of Key Mode vs Popularity\n",
        "plt.figure(figsize=(10, 6))\n",
        "sns.barplot(data=df, x='key', y='popularity', ci = None)\n",
        "plt.title('Popularity by Key')\n",
        "plt.xlabel('Key')\n",
        "plt.ylabel('Popularity')\n",
        "plt.show()"
      ]
    },
    {
      "cell_type": "code",
      "execution_count": null,
      "metadata": {
        "id": "psdvEJ7zrirv"
      },
      "outputs": [],
      "source": [
        "# Scatterplot of Tempo vs Popularity\n",
        "plt.figure(figsize=(10, 6))\n",
        "sns.scatterplot(data=df, x='tempo', y='popularity', hue='danceability', palette='cool')\n",
        "plt.title('Tempo vs Popularity')\n",
        "plt.xlabel('Tempo')\n",
        "plt.ylabel('Popularity')\n",
        "plt.show()\n"
      ]
    },
    {
      "cell_type": "code",
      "execution_count": null,
      "metadata": {
        "id": "cvl5QU_Xrigs"
      },
      "outputs": [],
      "source": [
        "# Box plot of popularity by decade\n",
        "df['decade'] = (df['year'] // 10) * 10\n",
        "plt.figure(figsize=(12, 10))\n",
        "sns.boxplot(x='decade', y='popularity', data=df)\n",
        "plt.title('Song Popularity by Decade')\n",
        "plt.xlabel('Decade')\n",
        "plt.ylabel('Popularity Score')\n",
        "plt.show()"
      ]
    },
    {
      "cell_type": "markdown",
      "metadata": {
        "id": "UAd4nXzl34QD"
      },
      "source": [
        "## Modeling"
      ]
    },
    {
      "cell_type": "code",
      "execution_count": null,
      "metadata": {
        "id": "DIPrc_t_rigB"
      },
      "outputs": [],
      "source": [
        "from sklearn.model_selection import train_test_split, GridSearchCV\n",
        "from sklearn.linear_model import LinearRegression\n",
        "from sklearn.neighbors import KNeighborsRegressor\n",
        "from sklearn.tree import DecisionTreeRegressor, plot_tree\n",
        "from sklearn.ensemble import RandomForestRegressor, GradientBoostingRegressor\n",
        "from sklearn.metrics import mean_squared_error, r2_score\n",
        "from sklearn.preprocessing import OneHotEncoder, StandardScaler\n",
        "from sklearn.compose import make_column_transformer\n",
        "from sklearn.pipeline import Pipeline\n",
        "from sklearn.inspection import permutation_importance\n",
        "import torch\n",
        "import torch.nn as nn\n",
        "import torch.optim as optim"
      ]
    },
    {
      "cell_type": "markdown",
      "metadata": {
        "id": "a3znTPdw624x"
      },
      "source": [
        "### Baseline Model"
      ]
    },
    {
      "cell_type": "code",
      "execution_count": null,
      "metadata": {
        "id": "zqXmZbYWried"
      },
      "outputs": [],
      "source": [
        "# Set up baseline model using mean popularity score\n",
        "y = df['popularity']\n",
        "baseline_preds = np.ones(len(y)) * y.mean()\n",
        "baseline_mse = mean_squared_error(y, baseline_preds)\n",
        "\n",
        "print(f\"Baseline MSE: {baseline_mse:.4f}\")"
      ]
    },
    {
      "cell_type": "code",
      "execution_count": null,
      "metadata": {
        "id": "uAyKEtZ9ridj"
      },
      "outputs": [],
      "source": [
        "# Calculate RMSE\n",
        "baseline_rmse = np.sqrt(baseline_mse)\n",
        "print(f\"Baseline RMSE: {baseline_rmse:.4f}\")"
      ]
    },
    {
      "cell_type": "markdown",
      "metadata": {
        "id": "KEn9LFedB4xF"
      },
      "source": [
        "#Regression Models"
      ]
    },
    {
      "cell_type": "markdown",
      "metadata": {
        "id": "mes9HtJgb-73"
      },
      "source": [
        "### Preparing data for modeling"
      ]
    },
    {
      "cell_type": "code",
      "execution_count": null,
      "metadata": {
        "id": "nnHN439Trici"
      },
      "outputs": [],
      "source": [
        "# Select features (X) and target variable (y)\n",
        "X = df.drop(columns=['popularity'])  # Features\n",
        "y = df['popularity']  # Target variable\n",
        "\n",
        "# Splitting the dataset into training and test sets (80% - 20% split)\n",
        "X_train, X_test, y_train, y_test = train_test_split(X, y, test_size=0.2, random_state=42)\n",
        "\n",
        "# Check the shapes of the train-test split\n",
        "print(f\"Training data shape: {X_train.shape}\")\n",
        "print(f\"Test data shape: {X_test.shape}\")\n"
      ]
    },
    {
      "cell_type": "code",
      "execution_count": null,
      "metadata": {
        "id": "IBh3DrLOB3dh"
      },
      "outputs": [],
      "source": [
        "# Scale the features\n",
        "scaler = StandardScaler()\n",
        "X_train_scaled = scaler.fit_transform(X_train)\n",
        "X_test_scaled = scaler.transform(X_test)"
      ]
    },
    {
      "cell_type": "markdown",
      "metadata": {
        "id": "Rl9qLA7EcFsT"
      },
      "source": [
        "### Linear Regression Model"
      ]
    },
    {
      "cell_type": "code",
      "execution_count": null,
      "metadata": {
        "id": "zH-RyftXriSg"
      },
      "outputs": [],
      "source": [
        "# Create and train the model\n",
        "lr_model = LinearRegression()\n",
        "lr_model.fit(X_train_scaled, y_train)\n",
        "\n",
        "# Make predictions\n",
        "y_train_pred_lr = lr_model.predict(X_train_scaled)\n",
        "y_test_pred_lr = lr_model.predict(X_test_scaled)\n",
        "\n",
        "# Calculate MSE and R2 score\n",
        "lr_train_mse = mean_squared_error(y_train, y_train_pred_lr)\n",
        "lr_test_mse = mean_squared_error(y_test, y_test_pred_lr)\n",
        "lr_train_r2 = r2_score(y_train, y_train_pred_lr)\n",
        "lr_test_r2 = r2_score(y_test, y_test_pred_lr)\n",
        "\n",
        "print(\"Linear Regression Results:\")\n",
        "print(f\"Train MSE: {lr_train_mse:.4f}\")\n",
        "print(f\"Test MSE: {lr_test_mse:.4f}\")\n",
        "print(f\"Train R2: {lr_train_r2:.4f}\")\n",
        "print(f\"Test R2: {lr_test_r2:.4f}\")"
      ]
    },
    {
      "cell_type": "code",
      "execution_count": null,
      "metadata": {
        "id": "6Gyymj0hriMy"
      },
      "outputs": [],
      "source": [
        "# Feature importance\n",
        "feature_importance = pd.DataFrame({'feature': X.columns, 'importance': np.abs(lr_model.coef_)})\n",
        "feature_importance = feature_importance.sort_values('importance', ascending=False)\n",
        "print(\"\\nTop 5 important features:\")\n",
        "print(feature_importance.head())"
      ]
    },
    {
      "cell_type": "code",
      "execution_count": null,
      "metadata": {
        "id": "976HzqF0riIW"
      },
      "outputs": [],
      "source": [
        "# Visualize residuals\n",
        "plt.figure(figsize=(10, 6))\n",
        "plt.scatter(y_test_pred_lr, y_test - y_test_pred_lr)\n",
        "plt.xlabel('Predicted Values')\n",
        "plt.ylabel('Residuals')\n",
        "plt.title('Residual Plot for Linear Regression')\n",
        "plt.axhline(y=0, color='r', linestyle='--')\n",
        "plt.show()"
      ]
    },
    {
      "cell_type": "markdown",
      "metadata": {
        "id": "98p5QPorc66H"
      },
      "source": [
        "### K-Nearest Neighbors Regression Model"
      ]
    },
    {
      "cell_type": "code",
      "execution_count": null,
      "metadata": {
        "colab": {
          "background_save": true
        },
        "id": "1afSwNTurh_R"
      },
      "outputs": [],
      "source": [
        "# Create a pipeline with scaling and KNN\n",
        "pipe = Pipeline([\n",
        "    ('scaler', StandardScaler()),\n",
        "    ('model', KNeighborsRegressor())\n",
        "])"
      ]
    },
    {
      "cell_type": "code",
      "execution_count": null,
      "metadata": {
        "colab": {
          "background_save": true
        },
        "id": "ACpwIS1Hrhmy"
      },
      "outputs": [],
      "source": [
        "# Define parameter grid\n",
        "param_grid = {\n",
        "    'model__n_neighbors': [5, 10, 15, 20, 25, 30],\n",
        "    'model__weights': ['uniform', 'distance']\n",
        "}\n"
      ]
    },
    {
      "cell_type": "code",
      "execution_count": null,
      "metadata": {
        "colab": {
          "background_save": true
        },
        "id": "GNYQDE-XdNPF"
      },
      "outputs": [],
      "source": [
        "# Perform grid search\n",
        "grid_search = GridSearchCV(pipe, param_grid, cv=5, scoring='neg_mean_squared_error')\n",
        "grid_search.fit(X_train, y_train)\n"
      ]
    },
    {
      "cell_type": "code",
      "execution_count": null,
      "metadata": {
        "colab": {
          "background_save": true
        },
        "id": "Mh4-VXk6dNDp"
      },
      "outputs": [],
      "source": [
        "# Get best model\n",
        "best_knn = grid_search.best_estimator_"
      ]
    },
    {
      "cell_type": "code",
      "execution_count": null,
      "metadata": {
        "colab": {
          "background_save": true
        },
        "id": "hnBaFbMjdMwc"
      },
      "outputs": [],
      "source": [
        "# Make predictions\n",
        "y_train_pred = best_knn.predict(X_train)\n",
        "y_test_pred = best_knn.predict(X_test)"
      ]
    },
    {
      "cell_type": "code",
      "execution_count": null,
      "metadata": {
        "colab": {
          "background_save": true
        },
        "id": "lE7wRf7kdMsh"
      },
      "outputs": [],
      "source": [
        "# Calculate MSE and R2 score\n",
        "train_mse = mean_squared_error(y_train, y_train_pred)\n",
        "test_mse = mean_squared_error(y_test, y_test_pred)\n",
        "train_r2 = r2_score(y_train, y_train_pred)\n",
        "test_r2 = r2_score(y_test, y_test_pred)\n",
        "\n",
        "print(f\"Best parameters: {grid_search.best_params_}\")\n",
        "print(f\"Train MSE: {train_mse:.4f}\")\n",
        "print(f\"Test MSE: {test_mse:.4f}\")\n",
        "print(f\"Train R2: {train_r2:.4f}\")\n",
        "print(f\"Test R2: {test_r2:.4f}\")"
      ]
    },
    {
      "cell_type": "code",
      "execution_count": null,
      "metadata": {
        "colab": {
          "background_save": true
        },
        "id": "bLMStGcwdMjc"
      },
      "outputs": [],
      "source": [
        "# Feature importance using permutation importance\n",
        "from sklearn.inspection import permutation_importance\n",
        "\n",
        "r = permutation_importance(best_knn, X_test, y_test, n_repeats=10, random_state=42)\n",
        "feature_importance = pd.DataFrame({\n",
        "    'feature': X.columns,\n",
        "    'importance': r.importances_mean\n",
        "})\n",
        "feature_importance = feature_importance.sort_values('importance', ascending=False)\n",
        "print(feature_importance.head(10))"
      ]
    },
    {
      "cell_type": "markdown",
      "metadata": {
        "id": "rWYOUjAzl7rQ"
      },
      "source": [
        "### Decision Tree Regression"
      ]
    },
    {
      "cell_type": "code",
      "execution_count": null,
      "metadata": {
        "colab": {
          "background_save": true
        },
        "id": "UrwDzZdGl_dK"
      },
      "outputs": [],
      "source": [
        "# Create a pipeline with scaling and Decision Tree\n",
        "pipe = Pipeline([\n",
        "    ('scaler', StandardScaler()),\n",
        "    ('model', DecisionTreeRegressor(random_state=42))\n",
        "])"
      ]
    },
    {
      "cell_type": "code",
      "execution_count": null,
      "metadata": {
        "colab": {
          "background_save": true
        },
        "id": "8IjRyzPDl_cK"
      },
      "outputs": [],
      "source": [
        "# Train and test scores for different depths\n",
        "max_depths = range(1, 20)\n",
        "train_scores = []\n",
        "test_scores = []\n",
        "\n",
        "for depth in max_depths:\n",
        "    pipe.set_params(model__max_depth=depth)\n",
        "    pipe.fit(X_train, y_train)\n",
        "    train_scores.append(mean_squared_error(y_train, pipe.predict(X_train)))\n",
        "    test_scores.append(mean_squared_error(y_test, pipe.predict(X_test)))"
      ]
    },
    {
      "cell_type": "code",
      "execution_count": null,
      "metadata": {
        "colab": {
          "background_save": true
        },
        "id": "0gUBvTXyl_bF"
      },
      "outputs": [],
      "source": [
        "# Plot the scores\n",
        "plt.figure(figsize=(10, 6))\n",
        "plt.plot(max_depths, train_scores,'--o', label='Train')\n",
        "plt.plot(max_depths, test_scores,'--o', label='Test')\n",
        "plt.grid()\n",
        "plt.xlabel('Max Depth')\n",
        "plt.ylabel('Mean Squared Error')\n",
        "plt.title('Decision Tree: Max Depth vs MSE')\n",
        "plt.legend()\n",
        "plt.show()"
      ]
    },
    {
      "cell_type": "code",
      "execution_count": null,
      "metadata": {
        "colab": {
          "background_save": true
        },
        "id": "PlMzJOVZl_Zo"
      },
      "outputs": [],
      "source": [
        "# Choose the best depth (lowest test MSE)\n",
        "best_depth = max_depths[test_scores.index(min(test_scores))]"
      ]
    },
    {
      "cell_type": "code",
      "execution_count": null,
      "metadata": {
        "colab": {
          "background_save": true
        },
        "id": "xD6n-7Kll_YW"
      },
      "outputs": [],
      "source": [
        "# Train the final model\n",
        "best_dt = DecisionTreeRegressor(max_depth=best_depth, random_state=42)\n",
        "best_dt.fit(X_train, y_train)"
      ]
    },
    {
      "cell_type": "code",
      "execution_count": null,
      "metadata": {
        "colab": {
          "background_save": true
        },
        "id": "ADGVXG8Xl_W4"
      },
      "outputs": [],
      "source": [
        "# Make predictions\n",
        "y_train_pred = best_dt.predict(X_train)\n",
        "y_test_pred = best_dt.predict(X_test)\n"
      ]
    },
    {
      "cell_type": "code",
      "execution_count": null,
      "metadata": {
        "colab": {
          "background_save": true
        },
        "id": "GbI-S8rZl_VE"
      },
      "outputs": [],
      "source": [
        "# Calculate MSE and R2 score\n",
        "train_mse = mean_squared_error(y_train, y_train_pred)\n",
        "test_mse = mean_squared_error(y_test, y_test_pred)\n",
        "train_r2 = r2_score(y_train, y_train_pred)\n",
        "test_r2 = r2_score(y_test, y_test_pred)\n",
        "\n",
        "print(f\"Best depth: {best_depth}\")\n",
        "print(f\"Train MSE: {train_mse:.4f}\")\n",
        "print(f\"Test MSE: {test_mse:.4f}\")\n",
        "print(f\"Train R2: {train_r2:.4f}\")\n",
        "print(f\"Test R2: {test_r2:.4f}\")"
      ]
    },
    {
      "cell_type": "code",
      "execution_count": null,
      "metadata": {
        "colab": {
          "background_save": true
        },
        "id": "_mkr0I2il_TS"
      },
      "outputs": [],
      "source": [
        "# Feature importance\n",
        "feature_importance = pd.DataFrame({\n",
        "    'feature': X.columns,\n",
        "    'importance': best_dt.feature_importances_\n",
        "})\n",
        "feature_importance = feature_importance.sort_values('importance', ascending=False)\n",
        "print(feature_importance.head(10))"
      ]
    },
    {
      "cell_type": "markdown",
      "metadata": {
        "id": "Sq9SeeUpr39T"
      },
      "source": [
        "### Random Forest Regression"
      ]
    },
    {
      "cell_type": "code",
      "execution_count": null,
      "metadata": {
        "colab": {
          "background_save": true
        },
        "id": "234bUhxFl_Fc"
      },
      "outputs": [],
      "source": [
        "# Create a pipeline with scaling and Random Forest\n",
        "pipe = Pipeline([\n",
        "    ('scaler', StandardScaler()),\n",
        "    ('model', RandomForestRegressor(random_state=42))\n",
        "])"
      ]
    },
    {
      "cell_type": "code",
      "execution_count": null,
      "metadata": {
        "colab": {
          "background_save": true
        },
        "id": "Ync5GC6Al-9K"
      },
      "outputs": [],
      "source": [
        "# Define parameter grid\n",
        "param_grid = {\n",
        "    'model__n_estimators': [50, 100, 200],\n",
        "    'model__max_depth': [5, 10, 15, None],\n",
        "    'model__min_samples_split': [2, 5, 10]\n",
        "}"
      ]
    },
    {
      "cell_type": "code",
      "execution_count": null,
      "metadata": {
        "id": "xgP9WqsYl-2y"
      },
      "outputs": [],
      "source": [
        "# Perform grid search\n",
        "grid_search = GridSearchCV(pipe, param_grid, cv=3, scoring='neg_mean_squared_error')\n",
        "grid_search.fit(X_train, y_train)"
      ]
    },
    {
      "cell_type": "code",
      "execution_count": null,
      "metadata": {
        "id": "2Pfyamq3l-yT"
      },
      "outputs": [],
      "source": [
        "# Get best model\n",
        "best_rf = grid_search.best_estimator_"
      ]
    },
    {
      "cell_type": "code",
      "execution_count": null,
      "metadata": {
        "id": "vCrh497fl-to"
      },
      "outputs": [],
      "source": [
        "# Make predictions\n",
        "y_train_pred = best_rf.predict(X_train)\n",
        "y_test_pred = best_rf.predict(X_test)\n"
      ]
    },
    {
      "cell_type": "code",
      "execution_count": null,
      "metadata": {
        "id": "pjQ88Brol-pQ"
      },
      "outputs": [],
      "source": [
        "# Calculate MSE and R2 score\n",
        "train_mse = mean_squared_error(y_train, y_train_pred)\n",
        "test_mse = mean_squared_error(y_test, y_test_pred)\n",
        "train_r2 = r2_score(y_train, y_train_pred)\n",
        "test_r2 = r2_score(y_test, y_test_pred)\n",
        "\n",
        "print(f\"Best parameters: {grid_search.best_params_}\")\n",
        "print(f\"Train MSE: {train_mse:.4f}\")\n",
        "print(f\"Test MSE: {test_mse:.4f}\")\n",
        "print(f\"Train R2: {train_r2:.4f}\")\n",
        "print(f\"Test R2: {test_r2:.4f}\")"
      ]
    },
    {
      "cell_type": "code",
      "execution_count": null,
      "metadata": {
        "id": "E0jOQBoZl-lX"
      },
      "outputs": [],
      "source": [
        "# Feature importance\n",
        "feature_importance = pd.DataFrame({\n",
        "    'feature': X.columns,\n",
        "    'importance': best_rf.named_steps['model'].feature_importances_\n",
        "})\n",
        "feature_importance = feature_importance.sort_values('importance', ascending=False)\n",
        "print(feature_importance.head(10))"
      ]
    },
    {
      "cell_type": "markdown",
      "source": [
        "### Gradient Boosting Regression"
      ],
      "metadata": {
        "id": "TFv8NonGJy0y"
      }
    },
    {
      "cell_type": "code",
      "source": [
        "# Create a pipeline with scaling and Gradient Boosting\n",
        "pipe = Pipeline([\n",
        "    ('scaler', StandardScaler()),\n",
        "    ('model', GradientBoostingRegressor(random_state=42))\n",
        "])\n",
        "\n",
        "# Define parameter grid\n",
        "param_grid = {\n",
        "    'model__n_estimators': [100, 200, 300],\n",
        "    'model__learning_rate': [0.01, 0.1, 0.3],\n",
        "    'model__max_depth': [3, 4, 5]\n",
        "}\n",
        "\n",
        "# Perform grid search\n",
        "grid_search = GridSearchCV(pipe, param_grid, cv=2, scoring='neg_mean_squared_error')\n",
        "grid_search.fit(X_train, y_train)\n",
        "\n",
        "# Get best model\n",
        "best_gb = grid_search.best_estimator_\n",
        "\n",
        "# Make predictions\n",
        "y_train_pred = best_gb.predict(X_train)\n",
        "y_test_pred = best_gb.predict(X_test)\n",
        "\n",
        "# Calculate MSE and R2 score\n",
        "train_mse = mean_squared_error(y_train, y_train_pred)\n",
        "test_mse = mean_squared_error(y_test, y_test_pred)\n",
        "train_r2 = r2_score(y_train, y_train_pred)\n",
        "test_r2 = r2_score(y_test, y_test_pred)\n",
        "\n",
        "print(f\"Best parameters: {grid_search.best_params_}\")\n",
        "print(f\"Train MSE: {train_mse:.4f}\")\n",
        "print(f\"Test MSE: {test_mse:.4f}\")\n",
        "print(f\"Train R2: {train_r2:.4f}\")\n",
        "print(f\"Test R2: {test_r2:.4f}\")\n",
        "\n",
        "# Feature importance\n",
        "feature_importance = pd.DataFrame({\n",
        "    'feature': X.columns,\n",
        "    'importance': best_gb.named_steps['model'].feature_importances_\n",
        "})\n",
        "feature_importance = feature_importance.sort_values('importance', ascending=False)\n",
        "print(feature_importance.head(10))"
      ],
      "metadata": {
        "id": "qoAl8JJiJxH-"
      },
      "execution_count": null,
      "outputs": []
    },
    {
      "cell_type": "markdown",
      "metadata": {
        "id": "bPCUnRIatDdT"
      },
      "source": [
        "### Neural Networks (PyTorch)"
      ]
    },
    {
      "cell_type": "code",
      "execution_count": null,
      "metadata": {
        "id": "LovjYB3Nl-dm"
      },
      "outputs": [],
      "source": [
        "# Define the neural network\n",
        "class Net(nn.Module):\n",
        "    def __init__(self, input_size):\n",
        "        super(Net, self).__init__()\n",
        "        self.fc1 = nn.Linear(input_size, 64)\n",
        "        self.fc2 = nn.Linear(64, 32)\n",
        "        self.fc3 = nn.Linear(32, 1)\n",
        "\n",
        "    def forward(self, x):\n",
        "        x = torch.relu(self.fc1(x))\n",
        "        x = torch.relu(self.fc2(x))\n",
        "        x = self.fc3(x)\n",
        "        return x\n",
        "\n",
        "# Convert to PyTorch tensors\n",
        "X_train_tensor = torch.FloatTensor(X_train_scaled)\n",
        "y_train_tensor = torch.FloatTensor(y_train.values).reshape(-1, 1)\n",
        "X_test_tensor = torch.FloatTensor(X_test_scaled)\n",
        "y_test_tensor = torch.FloatTensor(y_test.values).reshape(-1, 1)\n",
        "\n",
        "# Initialize the model\n",
        "model = Net(X_train.shape[1])\n",
        "\n",
        "# Define loss function and optimizer\n",
        "criterion = nn.MSELoss()\n",
        "optimizer = optim.Adam(model.parameters(), lr=0.001)\n",
        "\n",
        "# Train the model\n",
        "num_epochs = 100\n",
        "batch_size = 32\n",
        "\n",
        "for epoch in range(num_epochs):\n",
        "    for i in range(0, len(X_train_tensor), batch_size):\n",
        "        batch_X = X_train_tensor[i:i+batch_size]\n",
        "        batch_y = y_train_tensor[i:i+batch_size]\n",
        "\n",
        "        # Forward pass\n",
        "        outputs = model(batch_X)\n",
        "        loss = criterion(outputs, batch_y)\n",
        "\n",
        "        # Backward pass and optimize\n",
        "        optimizer.zero_grad()\n",
        "        loss.backward()\n",
        "        optimizer.step()\n",
        "\n",
        "    if (epoch + 1) % 10 == 0:\n",
        "        print(f'Epoch [{epoch+1}/{num_epochs}], Loss: {loss.item():.4f}')\n",
        "\n",
        "# Evaluate the model\n",
        "model.eval()\n",
        "with torch.no_grad():\n",
        "    y_train_pred = model(X_train_tensor)\n",
        "    y_test_pred = model(X_test_tensor)\n",
        "\n",
        "    train_mse = criterion(y_train_pred, y_train_tensor)\n",
        "    test_mse = criterion(y_test_pred, y_test_tensor)\n",
        "\n",
        "    train_r2 = r2_score(y_train_tensor.numpy(), y_train_pred.numpy())\n",
        "    test_r2 = r2_score(y_test_tensor.numpy(), y_test_pred.numpy())\n",
        "\n",
        "print(f\"Training MSE: {train_mse:.4f}\")\n",
        "print(f\"Testing MSE: {test_mse:.4f}\")\n",
        "print(f\"Training R2 Score: {train_r2:.4f}\")\n",
        "print(f\"Testing R2 Score: {test_r2:.4f}\")"
      ]
    }
  ],
  "metadata": {
    "colab": {
      "provenance": []
    },
    "kernelspec": {
      "display_name": "Python 3",
      "name": "python3"
    },
    "language_info": {
      "name": "python"
    }
  },
  "nbformat": 4,
  "nbformat_minor": 0
}